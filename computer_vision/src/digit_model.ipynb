{
 "cells": [
  {
   "cell_type": "code",
   "execution_count": null,
   "metadata": {},
   "outputs": [],
   "source": [
    "import numpy as np\n",
    "import torch\n",
    "import torchvision\n",
    "import matplotlib.pyplot as plt\n",
    "from time import time\n",
    "from torchvision import datasets, transforms\n",
    "from torch import nn, optim\n",
    "import os\n",
    "from pathlib import Path\n",
    "from torch.utils.data import DataLoader\n",
    "import torch.nn.functional as F\n",
    "import torch.optim as optim\n",
    "from torchvision.transforms.functional import InterpolationMode"
   ]
  },
  {
   "cell_type": "code",
   "execution_count": null,
   "metadata": {},
   "outputs": [],
   "source": [
    "# Constants\n",
    "dataset_path = os.getcwd() + \"/datasets\"\n",
    "train_dataset_path = dataset_path + \"/train\"\n",
    "test_dataset_path = dataset_path + \"/test\""
   ]
  },
  {
   "cell_type": "code",
   "execution_count": null,
   "metadata": {},
   "outputs": [],
   "source": [
    "class AddGaussianNoise(object):\n",
    "    def __init__(self, mean=0., std=0.1):\n",
    "        self.std = std\n",
    "        self.mean = mean\n",
    "        \n",
    "    def __call__(self, tensor):\n",
    "        return tensor + torch.randn(tensor.size()) * self.std + self.mean\n",
    "    \n",
    "    def __repr__(self):\n",
    "        return self.__class__.__name__ + '(mean={0}, std={1})'.format(self.mean, self.std)\n",
    "    \n",
    "class AddWhiteBlocks(object):\n",
    "    def __call__(self, tensor):\n",
    "        border_width = np.random.randint(1, 3)\n",
    "        side = np.random.randint(0, 4)\n",
    "        if side == 0:\n",
    "            border = torch.from_numpy(np.random.choice([0., 1.], (border_width, tensor.shape[1])))\n",
    "            tensor[0, 0:border_width, :] = border\n",
    "        elif side == 1:\n",
    "            border = torch.from_numpy(np.random.choice([0., 1.], (border_width, tensor.shape[1])))\n",
    "            tensor[0, tensor.shape[1] - border_width:tensor.shape[1], :] = border\n",
    "        elif side == 2:\n",
    "            border = torch.from_numpy(np.random.choice([0., 1.], (tensor.shape[2], border_width)))\n",
    "            tensor[0, :, 0:border_width] = border.reshape((tensor.shape[2], border_width))\n",
    "        else:\n",
    "            border = torch.from_numpy(np.random.choice([0., 1.], (tensor.shape[2], border_width)))\n",
    "            tensor[0, :, tensor.shape[2] - border_width:tensor.shape[2]] = border\n",
    "        return tensor\n",
    "    \n",
    "    def __repr__(self):\n",
    "        return self.__class__.__name__\n",
    "\n",
    "transform = transforms.Compose([\n",
    "    transforms.ToTensor(),\n",
    "    transforms.RandomApply([AddWhiteBlocks()], p=0.5),\n",
    "    transforms.RandomAffine(\n",
    "        degrees=(10, 10),\n",
    "        translate=(0.2, 0.2),\n",
    "        scale=(0.7, 1.2),\n",
    "        fill=0\n",
    "    ),\n",
    "    transforms.RandomApply([AddGaussianNoise()], p=0.5),\n",
    "    transforms.Normalize((0.5,), (0.5,)),\n",
    "])\n",
    "\n",
    "test_transform = transforms.Compose([\n",
    "    transforms.ToTensor(),\n",
    "    transforms.Normalize((0.5,), (0.5,)),\n",
    "])"
   ]
  },
  {
   "cell_type": "code",
   "execution_count": null,
   "metadata": {},
   "outputs": [],
   "source": [
    "new_mirror = 'https://ossci-datasets.s3.amazonaws.com/mnist'\n",
    "datasets.MNIST.resources = [\n",
    "   ('/'.join([new_mirror, url.split('/')[-1]]), md5)\n",
    "   for url, md5 in datasets.MNIST.resources\n",
    "]\n",
    "trainset = datasets.MNIST(train_dataset_path, download=True, train=True, transform=transform)\n",
    "valset = datasets.MNIST(test_dataset_path, download=True, train=False, transform=test_transform)\n",
    "trainloader = DataLoader(trainset, batch_size=64, shuffle=True)\n",
    "valloader = DataLoader(valset, shuffle=True, batch_size=1000)\n",
    "\n",
    "print(trainset)"
   ]
  },
  {
   "cell_type": "code",
   "execution_count": null,
   "metadata": {
    "scrolled": true
   },
   "outputs": [],
   "source": [
    "dataiter = iter(trainloader)\n",
    "images, labels = dataiter.next()\n",
    "plt.imshow(images[1].numpy().squeeze(), cmap=\"gray\")"
   ]
  },
  {
   "cell_type": "code",
   "execution_count": null,
   "metadata": {},
   "outputs": [],
   "source": [
    "print(images.shape)\n",
    "print(labels.shape)"
   ]
  },
  {
   "cell_type": "code",
   "execution_count": null,
   "metadata": {},
   "outputs": [],
   "source": [
    "class SimpleDigitModel(nn.Module):\n",
    "    def __init__(self):\n",
    "        super(SimpleDigitModel, self).__init__()\n",
    "        self.conv1 = nn.Conv2d(1, 16, kernel_size=3)\n",
    "        self.maxPool1 = nn.MaxPool2d(2)\n",
    "        self.conv2 = nn.Conv2d(16, 32, kernel_size=3)\n",
    "        self.maxPool2 = nn.MaxPool2d(2)\n",
    "        self.conv2_drop = nn.Dropout2d()\n",
    "        self.conv3 = nn.Conv2d(32, 64, kernel_size=3)\n",
    "        self.fc1 = nn.Linear(576, 128)\n",
    "        self.fc2 = nn.Linear(128, 10)\n",
    "\n",
    "    def forward(self, x):\n",
    "        x = self.conv1(x)\n",
    "        x = self.maxPool1(x)\n",
    "        x = F.relu(x)\n",
    "        x = self.conv2(x)\n",
    "        x = self.maxPool2(x)\n",
    "        x = F.dropout(x, training=self.training)\n",
    "        x = F.relu(x)\n",
    "        x = self.conv3(x)\n",
    "        x = F.relu(x)\n",
    "        x = x.view(-1, 576)\n",
    "        x = F.relu(self.fc1(x))\n",
    "        x = self.fc2(x)\n",
    "        return F.log_softmax(x)"
   ]
  },
  {
   "cell_type": "code",
   "execution_count": null,
   "metadata": {},
   "outputs": [],
   "source": [
    "model = SimpleDigitModel()\n",
    "optimizer = optim.SGD(model.parameters(), lr=0.003, momentum=0.9)\n",
    "criterion = nn.NLLLoss()"
   ]
  },
  {
   "cell_type": "code",
   "execution_count": null,
   "metadata": {},
   "outputs": [],
   "source": [
    "n_epochs = 20\n",
    "train_losses = []\n",
    "train_counter = []\n",
    "test_losses = []\n",
    "test_counter = [i*len(trainloader.dataset) for i in range(n_epochs + 1)]\n",
    "\n",
    "def train(epoch):\n",
    "    model.train()\n",
    "    for batch_idx, (data, target) in enumerate(trainloader):\n",
    "        optimizer.zero_grad()\n",
    "        output = model(data)\n",
    "        loss = criterion(output, target)\n",
    "        loss.backward()\n",
    "        optimizer.step()\n",
    "        if batch_idx % 10 == 0:\n",
    "            print('Train Epoch: {} [{}/{} ({:.0f}%)]\\tLoss: {:.6f}'.format(\n",
    "                epoch, batch_idx * len(data), \n",
    "                len(trainloader.dataset),\n",
    "                100. * batch_idx / len(trainloader), \n",
    "                loss.item()\n",
    "            ))\n",
    "            train_losses.append(loss.item())\n",
    "            train_counter.append((batch_idx*64) + ((epoch-1)*len(trainloader.dataset)))\n",
    "\n",
    "def test():\n",
    "    model.eval()\n",
    "    test_loss = 0\n",
    "    correct = 0\n",
    "    with torch.no_grad():\n",
    "        for data, target in valloader:\n",
    "            output = model(data)\n",
    "            test_loss += criterion(output, target)\n",
    "            pred = output.max(1, keepdim=True)\n",
    "            pred_indices = pred[1]\n",
    "            correct += pred_indices.eq(target.data.view_as(pred_indices)).sum()\n",
    "        test_loss /= len(valloader)\n",
    "        test_losses.append(test_loss)\n",
    "        print('\\nTest set: Avg. loss: {:.4f}, Accuracy: {}/{} ({:.0f}%)\\n'.format(\n",
    "            test_loss, \n",
    "            correct,\n",
    "            len(valloader.dataset),\n",
    "            100. * correct / len(valloader.dataset)\n",
    "        ))\n",
    "            \n",
    "test()\n",
    "for epoch in range(1, n_epochs + 1):\n",
    "    train(epoch)\n",
    "    test()"
   ]
  },
  {
   "cell_type": "code",
   "execution_count": null,
   "metadata": {
    "scrolled": true
   },
   "outputs": [],
   "source": [
    "fig = plt.figure()\n",
    "plt.plot(train_counter, train_losses, color='blue')\n",
    "plt.scatter(test_counter, test_losses, color='red')\n",
    "plt.legend(['Train Loss', 'Test Loss'], loc='upper right')\n",
    "plt.xlabel('number of training examples seen')\n",
    "plt.ylabel('negative log likelihood loss')"
   ]
  },
  {
   "cell_type": "code",
   "execution_count": null,
   "metadata": {},
   "outputs": [],
   "source": [
    "torch.save({\n",
    "            'epoch': 20,\n",
    "            'model_state_dict': model.state_dict(),\n",
    "            'optimizer_state_dict': optimizer.state_dict()\n",
    "            }, \"models/checkpoints/simple_digit_model_end.pt\")"
   ]
  },
  {
   "cell_type": "code",
   "execution_count": null,
   "metadata": {},
   "outputs": [],
   "source": [
    "import cv2\n",
    "iin = cv2.imread(\"iin_test2.jpg\")\n",
    "iin = cv2.cvtColor(iin, cv2.COLOR_BGR2GRAY) / 255\n",
    "plt.imshow(iin)\n",
    "iin.shape"
   ]
  },
  {
   "cell_type": "code",
   "execution_count": null,
   "metadata": {},
   "outputs": [],
   "source": [
    "import imutils\n",
    "\n",
    "num_digits = 12\n",
    "height, width = iin.shape\n",
    "width_per_digit = width // num_digits\n",
    "digits = []\n",
    "for i in range(12):\n",
    "    digit = iin[:, i*width_per_digit: (i+1)*width_per_digit]\n",
    "    digit = cv2.resize(digit, (28,28))\n",
    "    digit = digit[np.newaxis, ...]\n",
    "    digits.append(digit)\n",
    "digits = np.stack(digits)\n",
    "digits = torch.from_numpy(digits).float()"
   ]
  },
  {
   "cell_type": "code",
   "execution_count": null,
   "metadata": {},
   "outputs": [],
   "source": [
    "fig = plt.figure()\n",
    "for i in range(12):\n",
    "    plt.subplot(3,4,i+1)\n",
    "    plt.tight_layout()\n",
    "    plt.imshow(digits[i][0], cmap='gray', interpolation='none')\n",
    "    plt.xticks([])\n",
    "    plt.yticks([])"
   ]
  },
  {
   "cell_type": "code",
   "execution_count": null,
   "metadata": {},
   "outputs": [],
   "source": [
    "def getLabels(digits):\n",
    "    digits = transforms.Normalize(0.5, 0.5)(digits)\n",
    "    model.eval()\n",
    "    with torch.no_grad():\n",
    "        output = model(digits)\n",
    "        pred = output.max(1, keepdim=True)\n",
    "        pred_indices = pred[1]\n",
    "        x = pred_indices.numpy().flatten()\n",
    "        print(\"\".join([str(i) for i in x.tolist()]))\n",
    "getLabels(digits)"
   ]
  },
  {
   "cell_type": "code",
   "execution_count": null,
   "metadata": {},
   "outputs": [],
   "source": []
  }
 ],
 "metadata": {
  "kernelspec": {
   "display_name": "face-utils",
   "language": "python",
   "name": "face-utils"
  },
  "language_info": {
   "codemirror_mode": {
    "name": "ipython",
    "version": 3
   },
   "file_extension": ".py",
   "mimetype": "text/x-python",
   "name": "python",
   "nbconvert_exporter": "python",
   "pygments_lexer": "ipython3",
   "version": "3.8.1"
  }
 },
 "nbformat": 4,
 "nbformat_minor": 4
}
